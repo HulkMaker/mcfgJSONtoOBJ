{
 "cells": [
  {
   "cell_type": "code",
   "execution_count": 1,
   "metadata": {},
   "outputs": [],
   "source": [
    "import json\n",
    "import numpy as np\n",
    "%matplotlib inline\n",
    "import matplotlib.pyplot as plt\n",
    "import sys\n",
    "import os\n",
    "import tripy\n",
    "plt.style.use('classic')\n"
   ]
  },
  {
   "cell_type": "markdown",
   "metadata": {},
   "source": [
    "## This file is used for I/O tests"
   ]
  },
  {
   "cell_type": "code",
   "execution_count": 2,
   "metadata": {},
   "outputs": [],
   "source": [
    "from to3D import *\n",
    "from toOBJ import *\n",
    "loc=\"Bronew.json\"\n",
    "file=open(loc,\"r\")\n",
    "data=json.loads(file.read())\n"
   ]
  },
  {
   "cell_type": "code",
   "execution_count": 3,
   "metadata": {},
   "outputs": [
    {
     "name": "stdout",
     "output_type": "stream",
     "text": [
      "['Feature', 'Polygon', 'GeometryCollection', 'GeometryCollection', 'GeometryCollection', 'GeometryCollection', 'MultiPolygon', 'MultiPolygon', 'MultiPolygon', 'MultiPolygon', 'MultiPolygon']\n",
      "['values', 'earth', 'roads', 'walls', 'rivers', 'planks', 'buildings', 'prisms', 'squares', 'greens', 'fields']\n"
     ]
    }
   ],
   "source": [
    "typ=list()\n",
    "ids=list()\n",
    "for i in data[\"features\"]:\n",
    "    typ.append(i[\"type\"])\n",
    "    ids.append(i[\"id\"])\n",
    "print(typ)\n",
    "print(ids)\n"
   ]
  },
  {
   "cell_type": "code",
   "execution_count": 4,
   "metadata": {},
   "outputs": [],
   "source": [
    "earth=data[\"features\"][1][\"coordinates\"]\n",
    "roads=data[\"features\"][2][\"geometries\"]\n",
    "buildings=data[\"features\"][6][\"coordinates\"]\n",
    "fields=data[\"features\"][10][\"coordinates\"]\n",
    "square=data[\"features\"][8][\"coordinates\"]\n",
    "prisms=data[\"features\"][7][\"coordinates\"]"
   ]
  },
  {
   "cell_type": "code",
   "execution_count": 5,
   "metadata": {
    "scrolled": true
   },
   "outputs": [],
   "source": [
    "#you can specify the width here, common for all roads though. modify getRoads for another behavior\n",
    "earthtri,earthn = getEarth(earth[0])\n",
    "roadtri,roadn = getRoads(roads)\n",
    "fieldtri,fieldn = getFields(fields)\n",
    "rooftri,roofn = getSurfaces(buildings,8)\n",
    "wallbtri,wallbn = getWallsBuildings(buildings,8)\n",
    "squaretri,squaren = getSurfaces(square,0.1)\n",
    "prismstri,prismsn = getSurfaces(prisms,0.1)"
   ]
  },
  {
   "cell_type": "code",
   "execution_count": null,
   "metadata": {},
   "outputs": [],
   "source": []
  },
  {
   "cell_type": "code",
   "execution_count": 6,
   "metadata": {},
   "outputs": [],
   "source": [
    "def toStr(v):\n",
    "    return str(v[0])+\" \"+str(v[1])+\" \"+str(v[2])\n",
    "def getEarthColor():\n",
    "    i=4\n",
    "    kd=[0.26,0.53,0.19]\n",
    "    ks=[0.2,0.5,0.2]\n",
    "    ka=[0.4,0.4,0.4]\n",
    "    tf=[1.0,1.0,1.0]\n",
    "    ns=20\n",
    "    ni=1.0\n",
    "    return i,kd,ks,ka,tf,ns,ni\n",
    "\n",
    "def getRoadColor():\n",
    "    i=4\n",
    "    kd=[0.46,0.53,0.49]\n",
    "    ks=[0.2,0.2,0.2]\n",
    "    ka=[0.4,0.4,0.4]\n",
    "    tf=[1.0,1.0,1.0]\n",
    "    ns=20\n",
    "    ni=1.0\n",
    "    return i,kd,ks,ka,tf,ns,ni\n",
    "\n",
    "def getWallbColor():\n",
    "    i=4\n",
    "    kd=[0.46,0.03,0.09]\n",
    "    ks=[0.3,0.01,0.02]\n",
    "    ka=[0.2,0.01,0.01]\n",
    "    tf=[1.0,1.0,1.0]\n",
    "    ns=30\n",
    "    ni=1.0\n",
    "    return i,kd,ks,ka,tf,ns,ni\n",
    "def getRoofColor():\n",
    "    i=4\n",
    "    kd=[0.33,0.35,0.38]\n",
    "    ks=[0.23,0.25,0.28]\n",
    "    ka=[1,1,1]\n",
    "    tf=[1.0,1.0,1.0]\n",
    "    ns=40\n",
    "    ni=1.0\n",
    "    return i,kd,ks,ka,tf,ns,ni\n",
    "def getFieldColor():\n",
    "    i=4\n",
    "    kd=[0.95,0.80,0.65]\n",
    "    ks=[0.93,0.85,0.68]\n",
    "    ka=[1,0.8,0.6]\n",
    "    tf=[1.0,1.0,1.0]\n",
    "    ns=40\n",
    "    ni=1.0\n",
    "    return i,kd,ks,ka,tf,ns,ni\n",
    "def getSquareColor():\n",
    "    i=4\n",
    "    kd=[0.45,0.30,0.25]\n",
    "    ks=[0.93,0.85,0.68]\n",
    "    ka=[1,0.8,0.6]\n",
    "    tf=[1.0,1.0,1.0]\n",
    "    ns=10\n",
    "    ni=1.0\n",
    "    return i,kd,ks,ka,tf,ns,ni\n",
    "def getPrismsColor():\n",
    "    i=4\n",
    "    kd=[0.5,0.5,0.5]\n",
    "    ks=[0.93,0.85,0.68]\n",
    "    ka=[1,0.8,0.6]\n",
    "    tf=[1.0,1.0,1.0]\n",
    "    ns=40\n",
    "    ni=1.0\n",
    "    return i,kd,ks,ka,tf,ns,ni\n",
    "def getMaterial(name):\n",
    "    if name == \"earth\":\n",
    "        return getEarthColor()\n",
    "    if name == \"road\":\n",
    "        return getRoadColor()\n",
    "    if name == \"field\":\n",
    "        return getFieldColor()\n",
    "    if name == \"wallb\":\n",
    "        return getWallbColor()\n",
    "    if name == \"roof\":\n",
    "        return getRoofColor()\n",
    "    if name == \"square\":\n",
    "        return getSquareColor()\n",
    "    if name == \"prisms\":\n",
    "        return getPrismsColor()\n",
    "    \n",
    "def writeMTL(objs,file,name):\n",
    "    '''\n",
    "    write the material file for all the objects in objs\n",
    "    '''\n",
    "    for i in range(len(objs)):\n",
    "        il,kd,ks,ka,tf,ns,ni=getMaterial(name)\n",
    "        file.write(\"newmtl \"+name+\"_\"+str(i)+\"\\n\")\n",
    "        file.write(\"\\t illum \"+str(il)+\"\\n\")\n",
    "        file.write(\"\\t Kd \"+toStr(kd)+\"\\n\")\n",
    "        file.write(\"\\t Ks \"+toStr(ks)+\"\\n\")\n",
    "        file.write(\"\\t Ka \"+toStr(ka)+\"\\n\")\n",
    "        file.write(\"\\t Tf \"+toStr(tf)+\"\\n\")\n",
    "        file.write(\"\\t Ns \"+str(ns)+\"\\n\")\n",
    "        file.write(\"\\t Ni \"+str(ni)+\"\\n\")\n",
    "\n",
    "def writeObjects(objs,c,name):\n",
    "    \n",
    "    file.write(\"g \"+name+\"\\n\")\n",
    "    i=0\n",
    "    for o in objs:#there is one normal per triangle, so it's ok\n",
    "        file.write(\"o \"+name+\"_\"+str(i)+\"\\n\")\n",
    "        file.write(\"usemtl \"+name+\"_\"+str(i)+\"\\n\")\n",
    "        writeFaces(len(o),c,file)\n",
    "        i+=1\n",
    "        c+=len(o)*3\n",
    "        \n",
    "    return c\n",
    "\n",
    "def writeFaces(n,i,file):\n",
    "    #i=currentCount, n lenght of this one\n",
    "    #one line per triangle\n",
    "    for id in range(n):\n",
    "        file.write(\"f \")\n",
    "        step=i+3*id\n",
    "        file.write(str(step)+\"//\"+str(int((step+2)/3))+\" \")\n",
    "        \n",
    "        file.write(str(step+1)+\"//\"+str(int((step+2)/3))+\" \")\n",
    "        \n",
    "        file.write(str(step+2)+\"//\"+str(int((step+2)/3))+\"\\n\")\n",
    "        \n",
    "    \n",
    "def writeTriangleArray(array,file):\n",
    "    '''\n",
    "    writes in the file the array of triangles\n",
    "    '''\n",
    "    for a in array:\n",
    "        for t in a:\n",
    "            file.write(vertex(t,False))\n",
    "        \n",
    "def writeNormalArray(array,file):\n",
    "    '''\n",
    "    writes in the file the array of vertices\n",
    "    '''\n",
    "    for a in array:\n",
    "        file.write(vertex(a,True))\n",
    "        \n",
    "def vertex(v,n=False):\n",
    "    x,y,z=v\n",
    "    s=\"\"\n",
    "    if(n):\n",
    "        s=\"vn \"\n",
    "    else:\n",
    "        s=\"v \"\n",
    "\n",
    "    s+=str(x)+\" \"+str(y)+\" \"+str(z)+\"\\n\"\n",
    "    return s"
   ]
  },
  {
   "cell_type": "code",
   "execution_count": null,
   "metadata": {},
   "outputs": [],
   "source": []
  },
  {
   "cell_type": "code",
   "execution_count": 7,
   "metadata": {},
   "outputs": [],
   "source": [
    "fn=\"filetest\"\n",
    "file=open(fn+\".obj\",\"w\")\n",
    "file.write(\"use mtllib \"+fn+\".mtl\\n\")\n",
    "\n",
    "writeTriangleArray(earthtri,file)\n",
    "for road in roadtri:\n",
    "    writeTriangleArray(road,file)\n",
    "for field in fieldtri:\n",
    "    writeTriangleArray(field,file)\n",
    "for roof in rooftri:\n",
    "    writeTriangleArray(roof,file)\n",
    "for wallb in wallbtri:\n",
    "    writeTriangleArray(wallb,file)\n",
    "for s in squaretri:\n",
    "    writeTriangleArray(s,file)\n",
    "for p in prismstri:\n",
    "    writeTriangleArray(p,file)\n",
    "\n",
    "writeNormalArray(earthn,file)\n",
    "for road in roadn:\n",
    "    writeNormalArray(road,file)\n",
    "for field in fieldn:\n",
    "    writeNormalArray(field,file)\n",
    "for roof in roofn:\n",
    "    writeNormalArray(roof,file)\n",
    "for wallb in wallbn:\n",
    "    writeNormalArray(wallb,file)\n",
    "for s in squaren:\n",
    "    writeNormalArray(s,file)\n",
    "for p in prismsn:\n",
    "    writeNormalArray(p,file)\n",
    "\n",
    "counter=1\n",
    "counter=writeObjects([earthtri],counter,\"earth\")\n",
    "counter=writeObjects(roadn,counter,\"road\")\n",
    "counter=writeObjects(fieldn,counter,\"field\")\n",
    "counter=writeObjects(roofn,counter,\"roof\")\n",
    "counter=writeObjects(wallbn,counter,\"wallb\")\n",
    "counter=writeObjects(squaren,counter,\"square\")\n",
    "writeObjects(prismsn,counter,\"prisms\")\n",
    "\n",
    "mtl=open(fn+\".mtl\",\"w\")\n",
    "\n",
    "writeMTL(earthn,mtl,\"earth\")\n",
    "writeMTL(roadn,mtl,\"road\")\n",
    "writeMTL(fieldn,mtl,\"field\")\n",
    "writeMTL(roofn,mtl,\"roof\")\n",
    "writeMTL(wallbn,mtl,\"wallb\")\n",
    "writeMTL(squaren,mtl,\"square\")\n",
    "writeMTL(prismsn,mtl,\"prisms\")"
   ]
  },
  {
   "cell_type": "code",
   "execution_count": 8,
   "metadata": {},
   "outputs": [
    {
     "data": {
      "text/plain": [
       "[array([[0, 0, 1],\n",
       "        [0, 0, 1]])]"
      ]
     },
     "execution_count": 8,
     "metadata": {},
     "output_type": "execute_result"
    }
   ],
   "source": [
    "prismsn"
   ]
  },
  {
   "cell_type": "code",
   "execution_count": 9,
   "metadata": {},
   "outputs": [
    {
     "data": {
      "text/plain": [
       "23"
      ]
     },
     "execution_count": 9,
     "metadata": {},
     "output_type": "execute_result"
    }
   ],
   "source": [
    "len(roadtri[0])"
   ]
  },
  {
   "cell_type": "code",
   "execution_count": 10,
   "metadata": {},
   "outputs": [
    {
     "data": {
      "text/plain": [
       "[1, 1, 1, 2, 3]"
      ]
     },
     "execution_count": 10,
     "metadata": {},
     "output_type": "execute_result"
    }
   ],
   "source": [
    "[1,1,1]+[2,3]"
   ]
  },
  {
   "cell_type": "code",
   "execution_count": null,
   "metadata": {},
   "outputs": [],
   "source": []
  }
 ],
 "metadata": {
  "kernelspec": {
   "display_name": "Python 3",
   "language": "python",
   "name": "python3"
  },
  "language_info": {
   "codemirror_mode": {
    "name": "ipython",
    "version": 3
   },
   "file_extension": ".py",
   "mimetype": "text/x-python",
   "name": "python",
   "nbconvert_exporter": "python",
   "pygments_lexer": "ipython3",
   "version": "3.8.3"
  }
 },
 "nbformat": 4,
 "nbformat_minor": 4
}
